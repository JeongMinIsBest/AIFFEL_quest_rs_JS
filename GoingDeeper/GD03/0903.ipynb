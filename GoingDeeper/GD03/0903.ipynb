{
 "cells": [
  {
   "cell_type": "markdown",
   "id": "1750eb37-ff7e-4136-8fe9-b8ce22568f05",
   "metadata": {},
   "source": [
    "# 진행 과정 정리해보기\n",
    "\n",
    "영화 시놉시스 코퍼스로 영화 구분과 영화 장르 간에 내재된 편향성을 측정해보자.\n",
    "\n",
    "1. 형태소 분석기를 이용하여 품사가 명사인 경우 해당 단어를 추출한다.\n",
    "2. 추출된 결과로 embedding model을 만든다.\n",
    "3. target, attribute 단어 셋을 만든다.\n",
    "4. 모든 장르에 대해 WEAT score를 계산하고 이를 heatmap으로 만든다.\n",
    "\n",
    "\n",
    "# 실험 계획 세우기\n",
    "\n",
    "TF-IDF를 이용해서 Target과 attribute 단어 셋을 만드는 것이 노드의 방식이었다.\n",
    "\n",
    "하지만, 빈도 기반의 방식이기 때문에 단어의 의미를 벡터로 표현하지 못한다는 한계가 있다.\n",
    "\n",
    "물론 전처리를 통해서 TF-IDF를 개선해서 실험해보는 방법도 있겠으나, 영화 특성 상 의미나 주제가 중요할 것이므로 LSA와 LDA 방식으로 실험해보기로 했다.\n",
    "\n",
    "시간 관계상 우선 LSA를 먼저 구현해보고, 시간이 되면 LDA를 구현해야겠다.\n",
    "\n"
   ]
  },
  {
   "cell_type": "markdown",
   "id": "3c969852-816e-49b4-8f5b-23a01b6cf10a",
   "metadata": {},
   "source": [
    "## 데이터 다운로드"
   ]
  },
  {
   "cell_type": "code",
   "execution_count": 2,
   "id": "130fddf5-21b1-4c98-a089-d0ba6af3d3a3",
   "metadata": {},
   "outputs": [],
   "source": [
    "# 시놉시스 데이터 다운로드\n",
    "#!unzip ~/work/weat/data/synopsis.zip -d ~/work/weat/data/"
   ]
  },
  {
   "cell_type": "code",
   "execution_count": 2,
   "id": "4b52d16f-551c-4b1b-9edd-ccb818a2be9b",
   "metadata": {},
   "outputs": [
    {
     "name": "stdout",
     "output_type": "stream",
     "text": [
      "사운드 엔지니어 상우(유지태 분)는 치매에 걸린 할머니(백성희 분)와\n",
      " 젊은 시절 상처한 한 아버지(박인환 분), 고모(신신애 분)와 함께 살고 있다.\n",
      " 어느 겨울 그는 지방 방송국 라디오 PD 은수(이영애 분)를 만난다.\n",
      " 자연의 소리를 채집해 틀어주는 라디오 프로그램을 준비하는 은수는 상우와 녹음 여행을 떠난다.\n",
      " 자연스레 가까워지는 두 사람은 어느 날, 은수의 아파트에서 밤을 보낸다.\n",
      " 너무 쉽게 사랑에 빠진 두 사람... 상우는 주체할 수 없을 정도로 그녀에게 빨려든다.\n",
      " 그러나 겨울에 만난 두 사람의 관계는 봄을 지나 여름을 맞이하면서 삐걱거린다.\n",
      " 이혼 경험이 있는 은수는 상우에게 결혼할 생각이 없다며 부담스러운 표정을 내비친다.\n",
      " \"어떻게 사랑이 변하니?...\"라고 묻는 상우에게 은수는 그저 \"헤어져\" 라고 단호하게 말한다.\n",
      " 영원히 변할 것 같지 않던 사랑이 변하고, 그 사실을 받아들이지 못하는 상우는 어찌 할 바를 모른다.\n",
      " 은수를 잊지 못하는 상우는 미련과 집착의 감정을 이기지 못하고 서울과 강릉을 오간다.\n",
      "유사 이래 연령, 성별, 빈부의 차이와 정치적인 입장을 불문하고 일거에 국민을 통합해 온 '애국심'이라는 성역에 일침을 가하는 다큐멘터리. 재작년 전국 민족민주 유가족협의회의 장기농성을 다룬 인상적인 다큐멘터리 <민들레>를 만들었던 독립영화집단 '빨간 눈사람'이 우리 사회 구석구석을 발빠르게 돌아다니며 애국심과 민족주의가 강요되는 현장을 발굴하여 카메라에 담았다. 박홍 서강대 명예총장, 이도형 '한국논단' 발행인, 축구해설자 신문선, 홍세화, 박노해 등 사회 각계의 '스타'들이 등장해 저마다의 확고한 신념을 성토한다. 감독 이경순과 최하동하는 이 작품을 위해 3년간 백여 명을 인터뷰했다고 한다. 2001 올해의 독립영화상 수상.\n",
      " 민족과 국가란 공동체에서 부단히 권력과 부를 얻는 자, 나아가 민족과 국가란 공동체에서 얻은 신분과 부귀를 영원히 그의 자손에게 대물림하려는 자, 그래서 민족과 국가란 공동체를 부단히 유지해야만 하는 자, 따라서 민족과 국가란 공동체의 당위성과 개인의 가치를 초월하는 그 존엄성을 끝도 없이 창조하고 되뇌어야 하는 자, 종국에는 민족과 국가란 공동체에 속해 있다고 태내에서부터 세뇌된 모든 이들의 삶과 행동에서 영원히 자기복제되는 순환의 고리, 영생하는 애국의 원동력은 그 순환의 골에서 온다.\n",
      "엽기적인 살인사건이 발생한 장소를 관광하는 투어팀. 그 팀에서 관광객들은 살인사건과 관련하여 히스테리컬한 반응을 보이는데 과연 이들의 정체는? (Tourists see whrer a murder take place. They respond hysterically to the murder…what are they?)\n",
      " 제46회 발라돌리드 국제영화제 (2001, 스페인)\n",
      "착하지만 엉뚱한 태희(배두나 분), 예쁜 깍쟁이 혜주(이요원 분), 그림을 잘 그리는 지영(옥지영 분), 명랑한 쌍둥이 비류(이은실 분)와 온조(이은주 분)는 단짝친구들. 늘 함께였던 그들이지만 스무 살이 되면서 길이 달라진다. 증권회사에 입사한 혜주는 성공한 커리어우먼의 야심을 키우고 미술에 재능이 있는 지영은 유학을 꿈꾼다. 한편 태희는 봉사활동에서 알게 된 뇌성마비 시인을 좋아하는데...\n",
      "  어느 날 지영이 길 잃은 새끼 고양이 티티를 만남면서 스무 살 그녀들의 삶에 고양이 한 마리가 끼어들게 된다. 혼자 있길 좋아하고, 쉽게 마음을 열지 않는 신비로운 동물 고양이. 고양이를 닮은 스무 살 그녀들. 고양이 티티와 함께 한 시간동안 삶은 예상못한 방향으로 흘러가지만 마침내 그녀들만의 해결책을 찾게 되는데... 사랑스런 몽상가 태희, 아름다운 야심가 혜주, 신비로운 아웃사이더 지영. 마지막으로 고양이를 부탁받은 사람은 누구일까?\n",
      "인도 등 아시아 식민지에 처음 발을 디딘 뒤 여행하고 “경영”한 이들은 과연 누구였을까? 과거의 이미지들은, 이민과 인종 문제, ‘오리엔탈리즘’이 격렬히 충돌하고 있는 현재와 강력하게 공명한다.\n",
      " [제19회 인디다큐페스티발]\n",
      "홀로 살아가는 미국 할머니와 한국 할머니의 이야기. 공원에서 가끔 마주치게 되는 그들은 비록 언어 소통의 어려움을 겪지만 시간이 흘러감에 따라 서로 가까워져 그들의 외로움과 우정을 공유하게 된다. 겨울이 지나고 봄이 왔을 때 길가의 민들레 홀씨는 삶의 이치를 말해주듯 한 할머니의 주위를 맴돈다. (Two elderly widows, an American and a Korean, frequent the same park in Philadelphia and attempt a friendship, though the Korean widow speaks no English. Driven by loneliness and a spark of hope, they persevere within the limits of body language, and the outcome poses a question of life as fundamental as a flower.)\n"
     ]
    }
   ],
   "source": [
    "# 경로 설정\n",
    "import os\n",
    "\n",
    "data_dir = os.path.join(os.getenv(\"HOME\"), \"work/weat/data\")\n",
    "file_name = os.path.join(data_dir, \"synopsis.txt\")\n",
    "\n",
    "with open(file_name, 'r') as file:\n",
    "    for i in range(20):\n",
    "        print(file.readline(), end='')"
   ]
  },
  {
   "cell_type": "markdown",
   "id": "813d49dc-a730-49ec-a6ef-e50ab99bee31",
   "metadata": {},
   "source": [
    "## 형태소 분석기로 품사가 명사인 경우 해당 단어 추출하기"
   ]
  },
  {
   "cell_type": "code",
   "execution_count": 3,
   "id": "b24a553b-ff16-42b1-9636-6fa19ef6b299",
   "metadata": {},
   "outputs": [
    {
     "name": "stdout",
     "output_type": "stream",
     "text": [
      "Requirement already satisfied: konlpy in /opt/conda/lib/python3.12/site-packages (0.6.0)\n",
      "Requirement already satisfied: JPype1>=0.7.0 in /opt/conda/lib/python3.12/site-packages (from konlpy) (1.6.0)\n",
      "Requirement already satisfied: lxml>=4.1.0 in /opt/conda/lib/python3.12/site-packages (from konlpy) (6.0.1)\n",
      "Requirement already satisfied: numpy>=1.6 in /opt/conda/lib/python3.12/site-packages (from konlpy) (1.26.2)\n",
      "Requirement already satisfied: packaging in /opt/conda/lib/python3.12/site-packages (from JPype1>=0.7.0->konlpy) (25.0)\n"
     ]
    }
   ],
   "source": [
    "# Konlpy 형태소 분석기 다운로드\n",
    "!pip install konlpy"
   ]
  },
  {
   "cell_type": "code",
   "execution_count": 4,
   "id": "e829fcb9-f22e-4414-a056-877d83949cbe",
   "metadata": {},
   "outputs": [
    {
     "name": "stdout",
     "output_type": "stream",
     "text": [
      "품사가 명사인 경우 해당 단어 추출함\n"
     ]
    }
   ],
   "source": [
    "#======품사가 명사인 경우 해당 단어 추출하기==========\n",
    "from konlpy.tag import Okt\n",
    "\n",
    "okt = Okt()\n",
    "tokenized = []\n",
    "\n",
    "with open(file_name, 'r') as file:\n",
    "    while True:\n",
    "        line = file.readline()\n",
    "        if not line: break\n",
    "        words = okt.pos(line, stem=True, norm=True)\n",
    "        res = []\n",
    "        for w in words:\n",
    "            if w[1] in [\"Noun\"]:      # \"Adjective\", \"Verb\" 등을 포함할 수도 있습니다.\n",
    "                res.append(w[0])    # 명사일 때만 tokenized 에 저장하게 됩니다.\n",
    "        tokenized.append(res)\n",
    "\n",
    "print(\"품사가 명사인 경우 해당 단어 추출함\")"
   ]
  },
  {
   "cell_type": "code",
   "execution_count": 7,
   "id": "9b0b8c69-ab3d-44b7-96b5-dd262e1ca2b2",
   "metadata": {},
   "outputs": [
    {
     "name": "stdout",
     "output_type": "stream",
     "text": [
      "71156\n"
     ]
    }
   ],
   "source": [
    "# 명사가 모여있는 tokenized 길이\n",
    "print(len(tokenized))"
   ]
  },
  {
   "cell_type": "markdown",
   "id": "408e085d-60ba-4e7d-97a9-40906e03a08a",
   "metadata": {},
   "source": [
    "## 추출된 결과로 embedding vector 만들기"
   ]
  },
  {
   "cell_type": "code",
   "execution_count": 8,
   "id": "6d2829d0-5cf7-4a51-9c42-2867a88e567c",
   "metadata": {},
   "outputs": [
    {
     "data": {
      "text/plain": [
       "[('작품', 0.8932034373283386),\n",
       " ('다큐멘터리', 0.8523848056793213),\n",
       " ('드라마', 0.8311743140220642),\n",
       " ('영화로', 0.8013336062431335),\n",
       " ('감동', 0.7956811785697937),\n",
       " ('소재', 0.7919965386390686),\n",
       " ('코미디', 0.7895067930221558),\n",
       " ('형식', 0.7873854637145996),\n",
       " ('스토리', 0.7800410389900208),\n",
       " ('개연', 0.7763791680335999)]"
      ]
     },
     "execution_count": 8,
     "metadata": {},
     "output_type": "execute_result"
    }
   ],
   "source": [
    "from gensim.models import Word2Vec\n",
    "\n",
    "# tokenized에 담긴 데이터를 가지고 나만의 Word2Vec을 생성합니다. (Gensim 4.0 기준)\n",
    "model = Word2Vec(tokenized, vector_size=100, window=5, min_count=3, sg=0)\n",
    "#tokenized를 CBOW 방식으로 임베딩 벡터를 만들었다.\n",
    "\n",
    "\n",
    "# 테스트하기\n",
    "model.wv.most_similar(positive=['영화'])"
   ]
  },
  {
   "cell_type": "markdown",
   "id": "d479f2a3-c2e7-4fd9-b6da-2206fa0ed167",
   "metadata": {},
   "source": [
    "# Target, Attribute 단어 셋 만들기\n",
    "\n",
    "## 먼저 TF-IDF 만들기"
   ]
  },
  {
   "cell_type": "markdown",
   "id": "b54016f8-36cd-400c-a412-ffb19bfb1fe9",
   "metadata": {},
   "source": [
    "영화 종류 별 대표 단어 추출하기"
   ]
  },
  {
   "cell_type": "code",
   "execution_count": 9,
   "id": "a832150d-7857-462a-a923-1a480c0f1fa2",
   "metadata": {},
   "outputs": [
    {
     "name": "stdout",
     "output_type": "stream",
     "text": [
      "슝~\n"
     ]
    }
   ],
   "source": [
    "import os\n",
    "from sklearn.feature_extraction.text import TfidfVectorizer\n",
    "import numpy as np\n",
    "from konlpy.tag import Okt\n",
    "\n",
    "art_txt = 'synopsis_art.txt'\n",
    "gen_txt = 'synopsis_gen.txt'\n",
    "\n",
    "def read_token(file_name):\n",
    "    okt = Okt()\n",
    "    result = []\n",
    "    with open(data_dir + '/' + file_name, 'r') as fread:\n",
    "        print(file_name, '파일을 읽고 있습니다.')\n",
    "        while True:\n",
    "            line = fread.readline()\n",
    "            if not line: break\n",
    "            tokenlist = okt.pos(line, stem=True, norm=True)\n",
    "            for word in tokenlist:\n",
    "                if word[1] in [\"Noun\"]:#, \"Adjective\", \"Verb\"]:\n",
    "                    result.append((word[0]))\n",
    "    return ' '.join(result)\n",
    "\n",
    "print(\"슝~\")"
   ]
  },
  {
   "cell_type": "code",
   "execution_count": 10,
   "id": "1f920195-92eb-4b48-b3be-fd784fb49765",
   "metadata": {},
   "outputs": [
    {
     "name": "stdout",
     "output_type": "stream",
     "text": [
      "synopsis_art.txt 파일을 읽고 있습니다.\n",
      "synopsis_gen.txt 파일을 읽고 있습니다.\n"
     ]
    }
   ],
   "source": [
    "# 영화 장르를 토큰화\n",
    "art = read_token(art_txt)\n",
    "gen = read_token(gen_txt)"
   ]
  },
  {
   "cell_type": "code",
   "execution_count": 11,
   "id": "2ca0488e-51bc-43b7-b132-0c35219948d5",
   "metadata": {},
   "outputs": [
    {
     "name": "stdout",
     "output_type": "stream",
     "text": [
      "(2, 41082)\n"
     ]
    }
   ],
   "source": [
    "# 타겟 X\n",
    "vectorizer = TfidfVectorizer()\n",
    "X = vectorizer.fit_transform([art, gen])\n",
    "\n",
    "print(X.shape)"
   ]
  },
  {
   "cell_type": "code",
   "execution_count": 12,
   "id": "cfdb88c7-0c3d-4077-890e-5c7ab865bdc1",
   "metadata": {},
   "outputs": [
    {
     "name": "stdout",
     "output_type": "stream",
     "text": [
      "23976\n",
      "영화\n"
     ]
    }
   ],
   "source": [
    "print(vectorizer.vocabulary_['영화'])\n",
    "print(vectorizer.get_feature_names_out()[23976])"
   ]
  },
  {
   "cell_type": "code",
   "execution_count": 13,
   "id": "a05a80e7-316e-48e6-a82f-29c4294a5028",
   "metadata": {},
   "outputs": [
    {
     "name": "stdout",
     "output_type": "stream",
     "text": [
      "예술영화를 대표하는 단어들:\n",
      "그녀, 자신, 시작, 위해, 사랑, 사람, 영화, 친구, 남자, 가족, 이야기, 마을, 사건, 마음, 세상, 아버지, 아이, 엄마, 모든, 여자, 대한, 서로, 과연, 시간, 다시, 아들, 소녀, 아내, 다른, 영화제, 사이, 세계, 사실, 하나, 점점, 남편, 감독, 여행, 인생, 발견, 모두, 순간, 우리, 가장, 마지막, 아빠, 생활, 통해, 모습, 기억, 죽음, 비밀, 학교, 음악, 한편, 소년, 생각, 도시, 명의, 결혼, 사고, 전쟁, 위기, 때문, 이제, 최고, 이자, 과거, 일상, 경찰, 간다, 상황, 미국, 운명, 결심, 관계, 현실, 지금, 단편, 여인, 하루, 이름, 이후, 준비, 인간, 만난, 감정, 처음, 국제, 누구, 살인, 충격, 동안, 존재, 그린, 어머니, 연인, 계속, 동생, 작품, \n",
      "\n",
      "일반영화를 대표하는 단어들:\n",
      "자신, 그녀, 영화제, 위해, 사람, 시작, 국제, 영화, 친구, 사랑, 남자, 이야기, 대한, 서울, 여자, 사건, 남편, 아이, 가족, 아버지, 다른, 마을, 시간, 엄마, 아들, 모든, 단편, 마음, 사실, 다시, 세계, 모습, 작품, 통해, 생각, 서로, 세상, 발견, 감독, 아내, 관계, 소녀, 사이, 하나, 우리, 애니메이션, 때문, 여성, 죽음, 과연, 점점, 인간, 생활, 한편, 결혼, 상황, 모두, 기억, 명의, 소년, 여행, 가장, 간다, 순간, 이제, 도시, 비밀, 학교, 과거, 가지, 이자, 경찰, 마지막, 미국, 동안, 전쟁, 주인공, 대해, 존재, 현실, 연출, 사고, 살인, 일상, 어머니, 계속, 사회, 인생, 다큐멘터리, 부문, 섹스, 최고, 바로, 의도, 동생, 하루, 위기, 계획, 정체, 한국, "
     ]
    }
   ],
   "source": [
    "m1 = X[0].tocoo()   # art를 TF-IDF로 표현한 sparse matrix를 가져옵니다.\n",
    "m2 = X[1].tocoo()   # gen을 TF-IDF로 표현한 sparse matrix를 가져옵니다.\n",
    "\n",
    "w1 = [[i, j] for i, j in zip(m1.col, m1.data)]\n",
    "w2 = [[i, j] for i, j in zip(m2.col, m2.data)]\n",
    "\n",
    "w1.sort(key=lambda x: x[1], reverse=True)   #art를 구성하는 단어들을 TF-IDF가 높은 순으로 정렬합니다.\n",
    "w2.sort(key=lambda x: x[1], reverse=True)   #gen을 구성하는 단어들을 TF-IDF가 높은 순으로 정렬합니다.\n",
    "\n",
    "print('예술영화를 대표하는 단어들:')\n",
    "for i in range(100):\n",
    "    print(vectorizer.get_feature_names_out()[w1[i][0]], end=', ')\n",
    "\n",
    "print('\\n')\n",
    "\n",
    "print('일반영화를 대표하는 단어들:')\n",
    "for i in range(100):\n",
    "    print(vectorizer.get_feature_names_out()[w2[i][0]], end=', ')"
   ]
  },
  {
   "cell_type": "code",
   "execution_count": 14,
   "id": "eebb1ec8-2625-494f-ac0b-dda6ec33b011",
   "metadata": {},
   "outputs": [],
   "source": [
    "n = 15\n",
    "w1_, w2_ = [], []\n",
    "for i in range(100):\n",
    "    w1_.append(vectorizer.get_feature_names_out()[w1[i][0]])\n",
    "    w2_.append(vectorizer.get_feature_names_out()[w2[i][0]])\n",
    "\n",
    "# w1에만 있고 w2에는 없는, 예술영화를 잘 대표하는 단어를 15개 추출한다.\n",
    "target_art, target_gen = [], []\n",
    "for i in range(100):\n",
    "    if (w1_[i] not in w2_) and (w1_[i] in model.wv): target_art.append(w1_[i])\n",
    "    if len(target_art) == n: break\n",
    "\n",
    "# w2에만 있고 w1에는 없는, 일반영화를 잘 대표하는 단어를 15개 추출한다.\n",
    "for i in range(100):\n",
    "    if (w2_[i] not in w1_) and (w2_[i] in model.wv): target_gen.append(w2_[i])\n",
    "    if len(target_gen) == n: break"
   ]
  },
  {
   "cell_type": "code",
   "execution_count": 15,
   "id": "524471f8-5d90-49ab-8bde-6232f44d5181",
   "metadata": {},
   "outputs": [
    {
     "name": "stdout",
     "output_type": "stream",
     "text": [
      "['아빠', '음악', '운명', '결심', '지금', '여인', '이름', '이후', '준비', '만난', '감정', '처음', '누구', '충격', '그린']\n"
     ]
    }
   ],
   "source": [
    "print(target_art)"
   ]
  },
  {
   "cell_type": "code",
   "execution_count": 16,
   "id": "cdea0ffb-22b9-46f8-a68c-cd3de1ddca9c",
   "metadata": {},
   "outputs": [
    {
     "name": "stdout",
     "output_type": "stream",
     "text": [
      "['서울', '애니메이션', '여성', '가지', '주인공', '대해', '연출', '사회', '다큐멘터리', '부문', '섹스', '바로', '의도', '계획', '정체']\n"
     ]
    }
   ],
   "source": [
    "print(target_gen)"
   ]
  },
  {
   "cell_type": "markdown",
   "id": "04aa905f-80e9-4c2d-a02f-1f8eaa092ae3",
   "metadata": {},
   "source": [
    "TF-IDF로 장르 별 대표 단어 추출하기"
   ]
  },
  {
   "cell_type": "code",
   "execution_count": 17,
   "id": "2f507f56-1781-4ece-b41c-c6e3006638a8",
   "metadata": {},
   "outputs": [
    {
     "name": "stdout",
     "output_type": "stream",
     "text": [
      "슝~\n"
     ]
    }
   ],
   "source": [
    "genre_txt = ['synopsis_drama.txt', 'synopsis_romance.txt', 'synopsis_action.txt', 'synopsis_comedy.txt', 'synopsis_war.txt', 'synopsis_horror.txt']\n",
    "genre_name = ['드라마', '멜로로맨스', '액션', '코미디', '전쟁', '공포(호러)']\n",
    "\n",
    "print(\"슝~\")"
   ]
  },
  {
   "cell_type": "code",
   "execution_count": 18,
   "id": "515511b0-a485-4a72-ba64-52961f5cc7c2",
   "metadata": {},
   "outputs": [
    {
     "name": "stdout",
     "output_type": "stream",
     "text": [
      "synopsis_drama.txt 파일을 읽고 있습니다.\n",
      "synopsis_romance.txt 파일을 읽고 있습니다.\n",
      "synopsis_action.txt 파일을 읽고 있습니다.\n",
      "synopsis_comedy.txt 파일을 읽고 있습니다.\n",
      "synopsis_war.txt 파일을 읽고 있습니다.\n",
      "synopsis_horror.txt 파일을 읽고 있습니다.\n"
     ]
    }
   ],
   "source": [
    "# 약 10분정도 걸립니다.\n",
    "genre = []\n",
    "for file_name in genre_txt:\n",
    "    genre.append(read_token(file_name))"
   ]
  },
  {
   "cell_type": "code",
   "execution_count": 19,
   "id": "7a1d6415-30c0-415e-9b6e-6200d9fc4c3e",
   "metadata": {},
   "outputs": [
    {
     "name": "stdout",
     "output_type": "stream",
     "text": [
      "드라마: 그녀, 자신, 시작, 위해, 사랑, 사람, 영화, 친구, 남자, 가족, 이야기, 마을, 사건, 마음, 세상, \n",
      "멜로로맨스: 자신, 그녀, 영화제, 위해, 사람, 시작, 국제, 영화, 친구, 사랑, 남자, 이야기, 대한, 서울, 여자, \n"
     ]
    }
   ],
   "source": [
    "m = [X[i].tocoo() for i in range(X.shape[0])]\n",
    "\n",
    "w = [[[i, j] for i, j in zip(mm.col, mm.data)] for mm in m]\n",
    "\n",
    "for i in range(len(w)):\n",
    "    w[i].sort(key=lambda x: x[1], reverse=True)\n",
    "attributes = []\n",
    "for i in range(len(w)):\n",
    "    print(genre_name[i], end=': ')\n",
    "    attr = []\n",
    "    j = 0\n",
    "    while (len(attr) < 15):\n",
    "        if vectorizer.get_feature_names_out()[w[i][j][0]] in model.wv:\n",
    "            attr.append(vectorizer.get_feature_names_out()[w[i][j][0]])\n",
    "            print(vectorizer.get_feature_names_out()[w[i][j][0]], end=', ')\n",
    "        j += 1\n",
    "    attributes.append(attr)\n",
    "    print()"
   ]
  },
  {
   "cell_type": "markdown",
   "id": "ceaf1a5f-77b7-42b0-ba10-a53793f6eed1",
   "metadata": {},
   "source": [
    "단어 셋이 적어서 중복 삭제없이 그대로 사용"
   ]
  },
  {
   "cell_type": "markdown",
   "id": "9df0084a-a246-4566-a55e-f9396559edd0",
   "metadata": {},
   "source": [
    "## TF-IDF 를 LSA로 압축하기"
   ]
  },
  {
   "cell_type": "code",
   "execution_count": 20,
   "id": "5cb737af-fdf2-44bd-9644-2ab9bfb86b1b",
   "metadata": {},
   "outputs": [],
   "source": [
    "from sklearn.feature_extraction.text import TfidfVectorizer\n",
    "from sklearn.decomposition import TruncatedSVD\n",
    "from sklearn.preprocessing import normalize\n",
    "import numpy as np\n",
    "\n",
    "# art = read_token(art_txt)\n",
    "# gen = read_token(gen_txt)\n",
    "\n",
    "#genre_txt = ['synopsis_drama.txt', 'synopsis_romance.txt', 'synopsis_action.txt', 'synopsis_comedy.txt', 'synopsis_war.txt', 'synopsis_horror.txt']\n",
    "#genre_name = ['드라마', '멜로로맨스', '액션', '코미디', '전쟁', '공포(호러)']\n",
    "\n",
    "# 위에서 토큰화 한 거 가져오기\n",
    "genre_docs = genre"
   ]
  },
  {
   "cell_type": "code",
   "execution_count": 21,
   "id": "3340cd6e-6627-4fdd-849d-4a9d9ba1d915",
   "metadata": {},
   "outputs": [],
   "source": [
    "# 1) 문서 리스트 (art, gen + 장르들)\n",
    "docs_text = [art, gen] + genre_docs\n",
    "doc_names = ['art','gen'] + genre_name  "
   ]
  },
  {
   "cell_type": "code",
   "execution_count": 22,
   "id": "861e43c2-9caa-445b-baa6-b54a6f5aba97",
   "metadata": {},
   "outputs": [],
   "source": [
    "# 2) TF-IDF 피팅(모든 문서 공통 어휘로)\n",
    "vectorizer= TfidfVectorizer()\n",
    "X = vectorizer.fit_transform(docs_text)  # shape: (2 + #genres, vocab)\n",
    "terms = vectorizer.get_feature_names_out()"
   ]
  },
  {
   "cell_type": "code",
   "execution_count": 1,
   "id": "7ef4eda6-856e-47c6-936a-b5b1a8225a76",
   "metadata": {},
   "outputs": [
    {
     "ename": "NameError",
     "evalue": "name 'X' is not defined",
     "output_type": "error",
     "traceback": [
      "\u001b[31m---------------------------------------------------------------------------\u001b[39m",
      "\u001b[31mNameError\u001b[39m                                 Traceback (most recent call last)",
      "\u001b[36mCell\u001b[39m\u001b[36m \u001b[39m\u001b[32mIn[1]\u001b[39m\u001b[32m, line 2\u001b[39m\n\u001b[32m      1\u001b[39m \u001b[38;5;66;03m# 3) LSA(SVD) 적용\u001b[39;00m\n\u001b[32m----> \u001b[39m\u001b[32m2\u001b[39m k = \u001b[38;5;28mmin\u001b[39m(\u001b[32m200\u001b[39m, \u001b[38;5;28mmax\u001b[39m(\u001b[32m2\u001b[39m, \u001b[43mX\u001b[49m.shape[\u001b[32m1\u001b[39m]-\u001b[32m1\u001b[39m))\n\u001b[32m      3\u001b[39m svd = TruncatedSVD(n_components=k, random_state=\u001b[32m42\u001b[39m)\n\u001b[32m      4\u001b[39m X_lsa_doc = svd.fit_transform(X)   \u001b[38;5;66;03m# (docs x k)  각 문서의 LSA 벡터\u001b[39;00m\n",
      "\u001b[31mNameError\u001b[39m: name 'X' is not defined"
     ]
    }
   ],
   "source": [
    "# 3) LSA(SVD) 적용\n",
    "k = min(100, max(2, X.shape[1]-1))\n",
    "svd = TruncatedSVD(n_components=k, random_state=42)\n",
    "X_lsa_doc = svd.fit_transform(X)   # (docs x k)  각 문서의 LSA 벡터\n",
    "term_load = svd.components_.T                # (vocab x k) 각 단어의 로딩 벡터\n",
    "term_load = normalize(term_load)             # 코사인 유사도 계산 유리하게 정규화"
   ]
  },
  {
   "cell_type": "code",
   "execution_count": null,
   "id": "cfd347f3-529d-4840-847f-5d2f34cf86d6",
   "metadata": {},
   "outputs": [],
   "source": []
  },
  {
   "cell_type": "markdown",
   "id": "efec979c-0ce1-45f6-aea3-4de0fa37ecc0",
   "metadata": {},
   "source": [
    "## TF-IDF로 LSA 기반으로 단어 셋 만들기"
   ]
  },
  {
   "cell_type": "code",
   "execution_count": 1,
   "id": "59e1ae70-7623-4a81-ab74-d4d51d73d853",
   "metadata": {},
   "outputs": [],
   "source": [
    "# lsa 상위 단어 뽑기 정의\n",
    "import numpy as np\n",
    "from sklearn.preprocessing import normalize\n",
    "\n",
    "def centroid(rows: np.ndarray):\n",
    "    \"\"\"rows: (n_docs x k). 문서군 중심벡터 L2 정규화.\"\"\"\n",
    "    c = rows.mean(axis=0)\n",
    "    return c / (np.linalg.norm(c) + 1e-12)\n",
    "\n",
    "def top_words_lsa(center_vec, term_load, terms, topn=200):\n",
    "    \"\"\"center_vec: (k,), term_load: (vocab x k), terms: vocab list/ndarray\"\"\"\n",
    "    c = center_vec / (np.linalg.norm(center_vec) + 1e-12)\n",
    "    scores = term_load.dot(c)  # (vocab,)\n",
    "    order  = np.argsort(-scores)\n",
    "    return [terms[i] for i in order[:topn]]\n"
   ]
  },
  {
   "cell_type": "code",
   "execution_count": null,
   "id": "76623493-44a9-4eb6-8197-51ca9489f919",
   "metadata": {},
   "outputs": [],
   "source": [
    "#2) 타깃(X=예술, Y=일반) LSA 단어셋 뽑기\n",
    "\n",
    "# docs_text 순서: [art, gen] + genre_docs 라고 가정\n",
    "idx_art, idx_gen = 0, 1\n",
    "cent_art = X_lsa_doc[idx_art]  # 문서 하나면 그대로 벡터\n",
    "cent_gen = X_lsa_doc[idx_gen]\n",
    "\n",
    "# 후보군 넉넉히 뽑고 나중에 n개로 줄이기\n",
    "TOPN_CANDIDATES = 200\n",
    "X_art_cand = top_words_lsa(cent_art, term_load, terms, topn=TOPN_CANDIDATES)\n",
    "Y_gen_cand = top_words_lsa(cent_gen, term_load, terms, topn=TOPN_CANDIDATES)"
   ]
  },
  {
   "cell_type": "code",
   "execution_count": null,
   "id": "b8335f59-21d7-4a0a-992f-2c32c4369faf",
   "metadata": {},
   "outputs": [],
   "source": [
    "# 3) 장르별 속성(A_g, B_g) LSA 단어셋 뽑기\n",
    "\n",
    "num_genres = len(docs_text) - 2\n",
    "idx_genres = list(range(2, 2 + num_genres))\n",
    "\n",
    "def genre_attr_sets_lsa(gi, X_lsa_doc, term_load, terms, topn=200):\n",
    "    c_g   = X_lsa_doc[gi]               # 장르 g 문서(한 개) 벡터\n",
    "    others = [j for j in idx_genres if j != gi]\n",
    "    c_not = centroid(X_lsa_doc[others]) # 나머지 장르들의 중심\n",
    "    A_g = top_words_lsa(c_g,   term_load, terms, topn=topn)\n",
    "    B_g = top_words_lsa(c_not, term_load, terms, topn=topn)\n",
    "    return A_g, B_g"
   ]
  },
  {
   "cell_type": "code",
   "execution_count": null,
   "id": "1aa74955-a2e6-4bfa-ae97-3cca4ac52ea2",
   "metadata": {},
   "outputs": [],
   "source": [
    "# LSA 후보를 최종 타깃 단어셋(ART, GEN)으로 정\n",
    "\n",
    "def pick_unique_in_vocab(primary_list, other_list, n, vocab):\n",
    "    out = []\n",
    "    for w in primary_list:\n",
    "        if w in vocab and w not in other_list and w not in out:\n",
    "            out.append(w)\n",
    "            if len(out) == n: break\n",
    "    if len(out) < n:  # 모자라면 겹치더라도 채움\n",
    "        for w in primary_list:\n",
    "            if w in vocab and w not in out:\n",
    "                out.append(w)\n",
    "                if len(out) == n: break\n",
    "    return out\n",
    "\n",
    "FINAL_N = 15  # 최종 사용 단어 수\n",
    "target_art = pick_unique_in_vocab(X_art_cand, Y_gen_cand, FINAL_N, embed_vocab)\n",
    "target_gen = pick_unique_in_vocab(Y_gen_cand, X_art_cand, FINAL_N, embed_vocab)\n",
    "\n",
    "print(\"Target(art):\", target_art)\n",
    "print(\"Target(gen):\", target_gen)\n"
   ]
  },
  {
   "cell_type": "code",
   "execution_count": null,
   "id": "99d4a1f8-9ad3-41d7-b78c-364aee5ff90a",
   "metadata": {},
   "outputs": [],
   "source": [
    "# 장르별 Attribute 만들기\n",
    "\n",
    "TOPN_ATTR = 200  # 후보 폭넓게 뽑고\n",
    "\n",
    "lsa_attributes = []\n",
    "for offset, gname in enumerate(genre_name):  # genre_name은 이미 있음\n",
    "    gi = 2 + offset  # docs_text에서 해당 장르의 문서 인덱스\n",
    "    A_cand, B_cand = genre_attr_sets_lsa(gi, X_lsa_doc, term_load, terms, topn=TOPN_ATTR)\n",
    "\n",
    "    # in-vocab & 최종 N개\n",
    "    A = [w for w in A_cand if w in embed_vocab][:FINAL_N]\n",
    "    B = [w for w in B_cand if w in embed_vocab][:FINAL_N]\n",
    "\n",
    "    lsa_attributes.append((gname, A, B))\n",
    "    # 확인용 출력\n",
    "    # print(gname, \"A:\", A)\n",
    "    # print(gname, \"B:\", B)\n"
   ]
  },
  {
   "cell_type": "code",
   "execution_count": null,
   "id": "1bf65382-94b5-46bd-b0b0-26325869a4e3",
   "metadata": {},
   "outputs": [],
   "source": []
  },
  {
   "cell_type": "code",
   "execution_count": null,
   "id": "a0268d05-e1ef-4079-bc94-295187a6aab4",
   "metadata": {},
   "outputs": [],
   "source": [
    "# WEAT 계산\n",
    "import numpy as np\n",
    "\n",
    "def s_word(w, A, B, model):\n",
    "    a = [model.wv.similarity(w, x) for x in A if x in model.wv]\n",
    "    b = [model.wv.similarity(w, x) for x in B if x in model.wv]\n",
    "    if not a or not b:\n",
    "        return 0.0\n",
    "    return float(np.mean(a) - np.mean(b))\n",
    "\n",
    "def weat_score(X, Y, A, B, model):\n",
    "    sx = np.sum([s_word(x, A, B, model) for x in X if x in model.wv])\n",
    "    sy = np.sum([s_word(y, A, B, model) for y in Y if y in model.wv])\n",
    "    return float(sx - sy)\n",
    "\n",
    "rows = []\n",
    "for gname, A, B in lsa_attributes:\n",
    "    score = weat_score(target_art, target_gen, A, B, model)\n",
    "    rows.append((gname, score, len(A), len(B)))\n",
    "\n",
    "for g, s, na, nb in rows:\n",
    "    print(f\"{g:>10s} | WEAT(LSA-based) = {s: .4f} | |A|={na}, |B|={nb}\")\n"
   ]
  },
  {
   "cell_type": "code",
   "execution_count": null,
   "id": "ed79c3e7-33bb-4369-a65e-d8d6bae07f8d",
   "metadata": {},
   "outputs": [],
   "source": [
    "import pandas as pd, matplotlib.pyplot as plt\n",
    "df = pd.DataFrame(rows, columns=[\"genre\",\"weat\",\"|A|\",\"|B|\"]).set_index(\"genre\")\n",
    "print(df.round(4))\n",
    "\n",
    "plt.figure(figsize=(3.6, 0.45*len(df)+1))\n",
    "plt.imshow(df[[\"weat\"]].values, aspect='auto')\n",
    "plt.colorbar(label=\"WEAT (X=art, Y=gen | A=genre, B=~genre)\")\n",
    "plt.yticks(range(len(df.index)), df.index)\n",
    "plt.xticks([0], [\"Score\"])\n",
    "plt.title(\"Genre-wise WEAT (LSA-based)\")\n",
    "plt.tight_layout()\n",
    "plt.show()\n"
   ]
  }
 ],
 "metadata": {
  "kernelspec": {
   "display_name": "Python 3 (ipykernel)",
   "language": "python",
   "name": "python3"
  },
  "language_info": {
   "codemirror_mode": {
    "name": "ipython",
    "version": 3
   },
   "file_extension": ".py",
   "mimetype": "text/x-python",
   "name": "python",
   "nbconvert_exporter": "python",
   "pygments_lexer": "ipython3",
   "version": "3.12.11"
  }
 },
 "nbformat": 4,
 "nbformat_minor": 5
}
